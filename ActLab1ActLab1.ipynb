{
  "nbformat": 4,
  "nbformat_minor": 0,
  "metadata": {
    "colab": {
      "provenance": [],
      "authorship_tag": "ABX9TyNVgwF8cjetrRqxz/ZbtOaH",
      "include_colab_link": true
    },
    "kernelspec": {
      "name": "python3",
      "display_name": "Python 3"
    },
    "language_info": {
      "name": "python"
    }
  },
  "cells": [
    {
      "cell_type": "markdown",
      "metadata": {
        "id": "view-in-github",
        "colab_type": "text"
      },
      "source": [
        "<a href=\"https://colab.research.google.com/github/Rominadlm302/Programacion-Basica-302-I/blob/main/ActLab1ActLab1.ipynb\" target=\"_parent\"><img src=\"https://colab.research.google.com/assets/colab-badge.svg\" alt=\"Open In Colab\"/></a>"
      ]
    },
    {
      "cell_type": "markdown",
      "source": [
        "Actividad de Laboratorio 1 impresion de Menajes"
      ],
      "metadata": {
        "id": "LipFCLRCxvCh"
      }
    },
    {
      "cell_type": "markdown",
      "source": [
        "PB302_1.cpp Programa para Bienvenida"
      ],
      "metadata": {
        "id": "OwDMm13qmOde"
      }
    },
    {
      "cell_type": "markdown",
      "source": [],
      "metadata": {
        "id": "19nDTH1lxmxp"
      }
    },
    {
      "cell_type": "markdown",
      "source": [],
      "metadata": {
        "id": "KjmQujJ5xoXB"
      }
    },
    {
      "cell_type": "code",
      "execution_count": null,
      "metadata": {
        "colab": {
          "base_uri": "https://localhost:8080/"
        },
        "id": "0g03vzaNlh4V",
        "outputId": "78550f98-262b-4fa9-c0fd-c04268beb7f2"
      },
      "outputs": [
        {
          "output_type": "stream",
          "name": "stdout",
          "text": [
            "Overwriting PB302_1.cpp\n"
          ]
        }
      ],
      "source": [
        "%%writefile PB302_1.cpp\n",
        "//Programa para imprimir mensaje de bienvenida\n",
        "//Creado por Romina De la luz Martinez\n",
        "//Fecha: 15/09/2025\n",
        "//pb302_1.cpp\n",
        "#include <iostream>\n",
        "using namespace std;\n",
        "int main()\n",
        "{\n",
        "  cout<<\"Bienvenidos a progamacion basica en C++\\n\";\n",
        "  cout<<\"Gracias por programar en clase\";\n",
        "  return 0;\n",
        "}\n"
      ]
    },
    {
      "cell_type": "code",
      "source": [
        "!g++ PB302_1.cpp -o PB302_1\n",
        "!./PB302_1"
      ],
      "metadata": {
        "colab": {
          "base_uri": "https://localhost:8080/"
        },
        "id": "rSrKBbOJqEZU",
        "outputId": "7068e923-3b07-4120-bfbc-b9993c6c875d"
      },
      "execution_count": null,
      "outputs": [
        {
          "output_type": "stream",
          "name": "stdout",
          "text": [
            "Bienvenidos a progamacion basica en C++\n",
            "Gracias por programar en clase"
          ]
        }
      ]
    },
    {
      "cell_type": "markdown",
      "source": [
        "PB302_2.cpp Programa para imprimir datos personales"
      ],
      "metadata": {
        "id": "TBUZnC3_qzg0"
      }
    },
    {
      "cell_type": "code",
      "source": [
        "%%writefile PB302_2.cpp\n",
        "//Programa para Mostrar datos personales\n",
        "//Creado por Romina De la luz Martinez\n",
        "//Fecha:18/09/2025\n",
        "//PB302_2.cpp\n",
        "#include <iostream>\n",
        "using namespace std;\n",
        "int main()\n",
        "{\n",
        " char nombre[10]=\"Romina\";\n",
        " char paterno[10]=\"De la luz\";\n",
        " char materno[10]=\"Martinez\";\n",
        " int edad=16;\n",
        " char direccion[40]=\"Calle Ramon Aranda 3305 Col. Aldama\";\n",
        " char fechanac[11]=\"14/03/2009\";\n",
        " char ciudadnac[40]=\"Ciudad Juarez\";\n",
        " cout<<\"Tu nombre completo es:\\n\";\n",
        " cout<<nombre<<\"\\n\";\n",
        " cout<<paterno<<\"\\n\";\n",
        " cout<<materno<<\"\\n\";\n",
        " cout<<edad<<\"\\n\";\n",
        " cout<<direccion<<\"\\n\";\n",
        " cout<<fechanac<<\"\\n\";\n",
        " cout<<ciudadnac<<\"\\n\";\n",
        " return 0;\n",
        "}"
      ],
      "metadata": {
        "colab": {
          "base_uri": "https://localhost:8080/"
        },
        "id": "vgwfUrLhrT0D",
        "outputId": "d5906264-d343-441a-87ef-394aea718463"
      },
      "execution_count": 18,
      "outputs": [
        {
          "output_type": "stream",
          "name": "stdout",
          "text": [
            "Overwriting PB302_2.cpp\n"
          ]
        }
      ]
    },
    {
      "cell_type": "code",
      "source": [
        "!g++ PB302_2.cpp -o PB302_2.exe\n",
        "!./PB302_2.exe"
      ],
      "metadata": {
        "colab": {
          "base_uri": "https://localhost:8080/"
        },
        "id": "PMHTVEbDwktb",
        "outputId": "bea9a627-bfc1-4049-e4db-c6330f32ce31"
      },
      "execution_count": 19,
      "outputs": [
        {
          "output_type": "stream",
          "name": "stdout",
          "text": [
            "Tu nombre completo es:\n",
            "Romina\n",
            "De la luz\n",
            "Martinez\n",
            "16\n",
            "Calle Ramon Aranda 3305 Col. Aldama\n",
            "14/03/2009\n",
            "Ciudad Juarez\n"
          ]
        }
      ]
    }
  ]
}